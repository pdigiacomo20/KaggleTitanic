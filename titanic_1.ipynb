{
 "cells": [
  {
   "cell_type": "code",
   "execution_count": 1,
   "id": "af0f1cc7",
   "metadata": {},
   "outputs": [
    {
     "name": "stdout",
     "output_type": "stream",
     "text": [
      "sys.version_info(major=3, minor=7, micro=0, releaselevel='final', serial=0)\n"
     ]
    }
   ],
   "source": [
    "import sys\n",
    "print(sys.version_info)"
   ]
  },
  {
   "cell_type": "code",
   "execution_count": 1,
   "id": "21915f1d",
   "metadata": {},
   "outputs": [],
   "source": [
    "import numpy as np\n",
    "import pandas as pd\n",
    "import matplotlib.pyplot as plt"
   ]
  },
  {
   "cell_type": "code",
   "execution_count": 216,
   "id": "589ed267",
   "metadata": {},
   "outputs": [
    {
     "data": {
      "text/html": [
       "<div>\n",
       "<style scoped>\n",
       "    .dataframe tbody tr th:only-of-type {\n",
       "        vertical-align: middle;\n",
       "    }\n",
       "\n",
       "    .dataframe tbody tr th {\n",
       "        vertical-align: top;\n",
       "    }\n",
       "\n",
       "    .dataframe thead th {\n",
       "        text-align: right;\n",
       "    }\n",
       "</style>\n",
       "<table border=\"1\" class=\"dataframe\">\n",
       "  <thead>\n",
       "    <tr style=\"text-align: right;\">\n",
       "      <th></th>\n",
       "      <th>PassengerId</th>\n",
       "      <th>Survived</th>\n",
       "      <th>Pclass</th>\n",
       "      <th>Name</th>\n",
       "      <th>Sex</th>\n",
       "      <th>Age</th>\n",
       "      <th>SibSp</th>\n",
       "      <th>Parch</th>\n",
       "      <th>Ticket</th>\n",
       "      <th>Fare</th>\n",
       "      <th>Cabin</th>\n",
       "      <th>Embarked</th>\n",
       "    </tr>\n",
       "  </thead>\n",
       "  <tbody>\n",
       "    <tr>\n",
       "      <th>0</th>\n",
       "      <td>1</td>\n",
       "      <td>0</td>\n",
       "      <td>3</td>\n",
       "      <td>Braund, Mr. Owen Harris</td>\n",
       "      <td>male</td>\n",
       "      <td>22.0</td>\n",
       "      <td>1</td>\n",
       "      <td>0</td>\n",
       "      <td>A/5 21171</td>\n",
       "      <td>7.2500</td>\n",
       "      <td>NaN</td>\n",
       "      <td>S</td>\n",
       "    </tr>\n",
       "    <tr>\n",
       "      <th>1</th>\n",
       "      <td>2</td>\n",
       "      <td>1</td>\n",
       "      <td>1</td>\n",
       "      <td>Cumings, Mrs. John Bradley (Florence Briggs Th...</td>\n",
       "      <td>female</td>\n",
       "      <td>38.0</td>\n",
       "      <td>1</td>\n",
       "      <td>0</td>\n",
       "      <td>PC 17599</td>\n",
       "      <td>71.2833</td>\n",
       "      <td>C85</td>\n",
       "      <td>C</td>\n",
       "    </tr>\n",
       "    <tr>\n",
       "      <th>2</th>\n",
       "      <td>3</td>\n",
       "      <td>1</td>\n",
       "      <td>3</td>\n",
       "      <td>Heikkinen, Miss. Laina</td>\n",
       "      <td>female</td>\n",
       "      <td>26.0</td>\n",
       "      <td>0</td>\n",
       "      <td>0</td>\n",
       "      <td>STON/O2. 3101282</td>\n",
       "      <td>7.9250</td>\n",
       "      <td>NaN</td>\n",
       "      <td>S</td>\n",
       "    </tr>\n",
       "    <tr>\n",
       "      <th>3</th>\n",
       "      <td>4</td>\n",
       "      <td>1</td>\n",
       "      <td>1</td>\n",
       "      <td>Futrelle, Mrs. Jacques Heath (Lily May Peel)</td>\n",
       "      <td>female</td>\n",
       "      <td>35.0</td>\n",
       "      <td>1</td>\n",
       "      <td>0</td>\n",
       "      <td>113803</td>\n",
       "      <td>53.1000</td>\n",
       "      <td>C123</td>\n",
       "      <td>S</td>\n",
       "    </tr>\n",
       "    <tr>\n",
       "      <th>4</th>\n",
       "      <td>5</td>\n",
       "      <td>0</td>\n",
       "      <td>3</td>\n",
       "      <td>Allen, Mr. William Henry</td>\n",
       "      <td>male</td>\n",
       "      <td>35.0</td>\n",
       "      <td>0</td>\n",
       "      <td>0</td>\n",
       "      <td>373450</td>\n",
       "      <td>8.0500</td>\n",
       "      <td>NaN</td>\n",
       "      <td>S</td>\n",
       "    </tr>\n",
       "  </tbody>\n",
       "</table>\n",
       "</div>"
      ],
      "text/plain": [
       "   PassengerId  Survived  Pclass  \\\n",
       "0            1         0       3   \n",
       "1            2         1       1   \n",
       "2            3         1       3   \n",
       "3            4         1       1   \n",
       "4            5         0       3   \n",
       "\n",
       "                                                Name     Sex   Age  SibSp  \\\n",
       "0                            Braund, Mr. Owen Harris    male  22.0      1   \n",
       "1  Cumings, Mrs. John Bradley (Florence Briggs Th...  female  38.0      1   \n",
       "2                             Heikkinen, Miss. Laina  female  26.0      0   \n",
       "3       Futrelle, Mrs. Jacques Heath (Lily May Peel)  female  35.0      1   \n",
       "4                           Allen, Mr. William Henry    male  35.0      0   \n",
       "\n",
       "   Parch            Ticket     Fare Cabin Embarked  \n",
       "0      0         A/5 21171   7.2500   NaN        S  \n",
       "1      0          PC 17599  71.2833   C85        C  \n",
       "2      0  STON/O2. 3101282   7.9250   NaN        S  \n",
       "3      0            113803  53.1000  C123        S  \n",
       "4      0            373450   8.0500   NaN        S  "
      ]
     },
     "execution_count": 216,
     "metadata": {},
     "output_type": "execute_result"
    }
   ],
   "source": [
    "allcol = pd.read_csv('train.csv')\n",
    "allcol.head()"
   ]
  },
  {
   "cell_type": "code",
   "execution_count": 217,
   "id": "ce1d441d",
   "metadata": {},
   "outputs": [
    {
     "data": {
      "text/html": [
       "<div>\n",
       "<style scoped>\n",
       "    .dataframe tbody tr th:only-of-type {\n",
       "        vertical-align: middle;\n",
       "    }\n",
       "\n",
       "    .dataframe tbody tr th {\n",
       "        vertical-align: top;\n",
       "    }\n",
       "\n",
       "    .dataframe thead th {\n",
       "        text-align: right;\n",
       "    }\n",
       "</style>\n",
       "<table border=\"1\" class=\"dataframe\">\n",
       "  <thead>\n",
       "    <tr style=\"text-align: right;\">\n",
       "      <th></th>\n",
       "      <th>Pclass</th>\n",
       "      <th>class_1</th>\n",
       "      <th>class_2</th>\n",
       "      <th>class_3</th>\n",
       "    </tr>\n",
       "  </thead>\n",
       "  <tbody>\n",
       "    <tr>\n",
       "      <th>0</th>\n",
       "      <td>3</td>\n",
       "      <td>0</td>\n",
       "      <td>0</td>\n",
       "      <td>1</td>\n",
       "    </tr>\n",
       "    <tr>\n",
       "      <th>1</th>\n",
       "      <td>1</td>\n",
       "      <td>1</td>\n",
       "      <td>0</td>\n",
       "      <td>0</td>\n",
       "    </tr>\n",
       "    <tr>\n",
       "      <th>2</th>\n",
       "      <td>3</td>\n",
       "      <td>0</td>\n",
       "      <td>0</td>\n",
       "      <td>1</td>\n",
       "    </tr>\n",
       "    <tr>\n",
       "      <th>3</th>\n",
       "      <td>1</td>\n",
       "      <td>1</td>\n",
       "      <td>0</td>\n",
       "      <td>0</td>\n",
       "    </tr>\n",
       "    <tr>\n",
       "      <th>4</th>\n",
       "      <td>3</td>\n",
       "      <td>0</td>\n",
       "      <td>0</td>\n",
       "      <td>1</td>\n",
       "    </tr>\n",
       "    <tr>\n",
       "      <th>...</th>\n",
       "      <td>...</td>\n",
       "      <td>...</td>\n",
       "      <td>...</td>\n",
       "      <td>...</td>\n",
       "    </tr>\n",
       "    <tr>\n",
       "      <th>886</th>\n",
       "      <td>2</td>\n",
       "      <td>0</td>\n",
       "      <td>1</td>\n",
       "      <td>0</td>\n",
       "    </tr>\n",
       "    <tr>\n",
       "      <th>887</th>\n",
       "      <td>1</td>\n",
       "      <td>1</td>\n",
       "      <td>0</td>\n",
       "      <td>0</td>\n",
       "    </tr>\n",
       "    <tr>\n",
       "      <th>888</th>\n",
       "      <td>3</td>\n",
       "      <td>0</td>\n",
       "      <td>0</td>\n",
       "      <td>1</td>\n",
       "    </tr>\n",
       "    <tr>\n",
       "      <th>889</th>\n",
       "      <td>1</td>\n",
       "      <td>1</td>\n",
       "      <td>0</td>\n",
       "      <td>0</td>\n",
       "    </tr>\n",
       "    <tr>\n",
       "      <th>890</th>\n",
       "      <td>3</td>\n",
       "      <td>0</td>\n",
       "      <td>0</td>\n",
       "      <td>1</td>\n",
       "    </tr>\n",
       "  </tbody>\n",
       "</table>\n",
       "<p>891 rows × 4 columns</p>\n",
       "</div>"
      ],
      "text/plain": [
       "     Pclass  class_1  class_2  class_3\n",
       "0         3        0        0        1\n",
       "1         1        1        0        0\n",
       "2         3        0        0        1\n",
       "3         1        1        0        0\n",
       "4         3        0        0        1\n",
       "..      ...      ...      ...      ...\n",
       "886       2        0        1        0\n",
       "887       1        1        0        0\n",
       "888       3        0        0        1\n",
       "889       1        1        0        0\n",
       "890       3        0        0        1\n",
       "\n",
       "[891 rows x 4 columns]"
      ]
     },
     "execution_count": 217,
     "metadata": {},
     "output_type": "execute_result"
    }
   ],
   "source": [
    "#Below is an example of get_dummies usage to create categorical indicator variables for passenger class\n",
    "allcol1 = allcol.join(pd.get_dummies(allcol['Pclass'],prefix='class'))\n",
    "allcol1[['Pclass','class_1','class_2','class_3']]"
   ]
  },
  {
   "cell_type": "code",
   "execution_count": 225,
   "id": "0ae0f23d",
   "metadata": {},
   "outputs": [
    {
     "name": "stdout",
     "output_type": "stream",
     "text": [
      "Index(['PassengerId', 'Survived', 'Pclass', 'Name', 'Sex', 'Age', 'SibSp',\n",
      "       'Parch', 'Ticket', 'Fare', 'Cabin', 'Embarked', 'Pclass_1', 'Pclass_2',\n",
      "       'Pclass_3', 'Parch_0', 'Parch_1', 'Parch_2', 'Parch_3', 'Parch_4',\n",
      "       'Parch_5', 'Parch_6', 'Embarked_C', 'Embarked_Q', 'Embarked_S'],\n",
      "      dtype='object')\n"
     ]
    }
   ],
   "source": [
    "#Create categorical indicator variables for the following in cat_cols:\n",
    "cat_cols = [\"Pclass\",\"Parch\",\"Embarked\"]\n",
    "data1 = allcol\n",
    "for catvar in cat_cols:\n",
    "    data1 = data1.join(pd.get_dummies(data1[catvar],prefix=catvar))\n",
    "print(data1.columns)"
   ]
  },
  {
   "cell_type": "code",
   "execution_count": 226,
   "id": "ca7d221c",
   "metadata": {},
   "outputs": [
    {
     "data": {
      "text/plain": [
       "Index(['PassengerId', 'Survived', 'Name', 'Sex', 'Age', 'SibSp', 'Ticket',\n",
       "       'Fare', 'Cabin', 'Pclass_1', 'Pclass_2', 'Pclass_3', 'Parch_0',\n",
       "       'Parch_1', 'Parch_2', 'Parch_3', 'Parch_4', 'Parch_5', 'Parch_6',\n",
       "       'Embarked_C', 'Embarked_Q', 'Embarked_S'],\n",
       "      dtype='object')"
      ]
     },
     "execution_count": 226,
     "metadata": {},
     "output_type": "execute_result"
    }
   ],
   "source": [
    "#remove the columns that we made dummie variables for\n",
    "cols = data1.columns.values.tolist()\n",
    "keep_vars = [x for x in cols if x not in cat_cols]\n",
    "data2 = data1[keep_vars]\n",
    "data2.columns"
   ]
  },
  {
   "cell_type": "code",
   "execution_count": 227,
   "id": "fd6b526e",
   "metadata": {},
   "outputs": [],
   "source": [
    "#Select only certain columns to perform analysis on. We omit PassengerId, Name, SibSp, Ticket,Cabin,\n",
    "data3 = data2[['Survived','Sex','Age','Fare','Pclass_1','Pclass_2', 'Pclass_3', 'Parch_0',\n",
    "       'Parch_1', 'Parch_2', 'Parch_3', 'Parch_4', 'Parch_5', 'Parch_6',\n",
    "       'Embarked_C', 'Embarked_Q', 'Embarked_S']]\n",
    "data3 = data3.dropna()\n",
    "data3 = data3.drop(['Survived'],axis=1)\n",
    "data3['Female'] = data3['Sex'].apply(lambda x: 1 if x == 'female' else 0)\n",
    "data3 = data3.drop(['Sex'],axis=1)\n",
    "data3['Age'] = data3['Age'].mean() - data3['Age']\n",
    "data3 = data3.apply((lambda x: (x - x.mean())/x.std(ddof=0)))"
   ]
  },
  {
   "cell_type": "code",
   "execution_count": 228,
   "id": "286cc810",
   "metadata": {},
   "outputs": [],
   "source": [
    "from sklearn.linear_model import LogisticRegression\n",
    "from sklearn.model_selection import train_test_split"
   ]
  },
  {
   "cell_type": "code",
   "execution_count": 229,
   "id": "2c2defc8",
   "metadata": {},
   "outputs": [
    {
     "name": "stdout",
     "output_type": "stream",
     "text": [
      "0.8041958041958042\n",
      "             0         1\n",
      "0          Age  0.422497\n",
      "1         Fare  0.087289\n",
      "2     Pclass_1  0.499491\n",
      "3     Pclass_2  0.047309\n",
      "4     Pclass_3 -0.479011\n",
      "5      Parch_0 -0.013839\n",
      "6      Parch_1  0.186934\n",
      "7      Parch_2 -0.097773\n",
      "8      Parch_3  0.032481\n",
      "9      Parch_4 -0.326733\n",
      "10     Parch_5 -0.051251\n",
      "11     Parch_6 -0.178772\n",
      "12  Embarked_C  0.019337\n",
      "13  Embarked_Q -0.093933\n",
      "14  Embarked_S -0.165702\n",
      "15      Female  1.172017\n",
      "16   Intercept -0.519037\n"
     ]
    },
    {
     "data": {
      "text/plain": [
       "<AxesSubplot:xlabel='0'>"
      ]
     },
     "execution_count": 229,
     "metadata": {},
     "output_type": "execute_result"
    },
    {
     "data": {
      "image/png": "[encoded data removed]",
      "text/plain": [
       "<Figure size 432x288 with 1 Axes>"
      ]
     },
     "metadata": {
      "needs_background": "light"
     },
     "output_type": "display_data"
    }
   ],
   "source": [
    "#This logstic model includes sex, plus other columns, its accuracy on the test set is about 80.4%\n",
    "logisticRegr = LogisticRegression()\n",
    "x_train,x_test,y_train,y_test = train_test_split(data6,data3a['Survived'],test_size = 0.20,random_state=0)\n",
    "logisticRegr.fit(x_train,y_train)\n",
    "score = logisticRegr.score(x_test, y_test)\n",
    "coefs = pd.DataFrame(list(zip(data6.columns,logisticRegr.coef_[0])))\n",
    "coefs = coefs.append(pd.DataFrame.from_dict({0:'Intercept',1:logisticRegr.intercept_}),ignore_index=True)\n",
    "print(score)\n",
    "print(coefs)\n",
    "coefs.plot.bar(x=0,y=1)"
   ]
  },
  {
   "cell_type": "code",
   "execution_count": 230,
   "id": "b1b78803",
   "metadata": {},
   "outputs": [
    {
     "name": "stdout",
     "output_type": "stream",
     "text": [
      "0.7972027972027972\n",
      "[[1.14760121]]\n",
      "[-0.47894096]\n"
     ]
    }
   ],
   "source": [
    "#This logistic regression model only uses sex as a feature and its accuracy on the test set\n",
    "#is about 79.7%\n",
    "data7 = np.array(data6['Female']).reshape(-1,1)\n",
    "logisticRegr = LogisticRegression()\n",
    "x_train,x_test,y_train,y_test = train_test_split(data7,data3a['Survived'],test_size = 0.20,random_state=0)\n",
    "logisticRegr.fit(x_train,y_train)\n",
    "score = logisticRegr.score(x_test, y_test)\n",
    "print(score)\n",
    "print(logisticRegr.coef_)\n",
    "print(logisticRegr.intercept_)"
   ]
  },
  {
   "cell_type": "code",
   "execution_count": 231,
   "id": "98529441",
   "metadata": {},
   "outputs": [
    {
     "data": {
      "text/html": [
       "<div>\n",
       "<style scoped>\n",
       "    .dataframe tbody tr th:only-of-type {\n",
       "        vertical-align: middle;\n",
       "    }\n",
       "\n",
       "    .dataframe tbody tr th {\n",
       "        vertical-align: top;\n",
       "    }\n",
       "\n",
       "    .dataframe thead tr th {\n",
       "        text-align: left;\n",
       "    }\n",
       "\n",
       "    .dataframe thead tr:last-of-type th {\n",
       "        text-align: right;\n",
       "    }\n",
       "</style>\n",
       "<table border=\"1\" class=\"dataframe\">\n",
       "  <thead>\n",
       "    <tr>\n",
       "      <th></th>\n",
       "      <th colspan=\"2\" halign=\"left\">Survived</th>\n",
       "    </tr>\n",
       "    <tr>\n",
       "      <th></th>\n",
       "      <th>count</th>\n",
       "      <th>mean</th>\n",
       "    </tr>\n",
       "    <tr>\n",
       "      <th>Parch</th>\n",
       "      <th></th>\n",
       "      <th></th>\n",
       "    </tr>\n",
       "  </thead>\n",
       "  <tbody>\n",
       "    <tr>\n",
       "      <th>0</th>\n",
       "      <td>678</td>\n",
       "      <td>0.343658</td>\n",
       "    </tr>\n",
       "    <tr>\n",
       "      <th>1</th>\n",
       "      <td>118</td>\n",
       "      <td>0.550847</td>\n",
       "    </tr>\n",
       "    <tr>\n",
       "      <th>2</th>\n",
       "      <td>80</td>\n",
       "      <td>0.500000</td>\n",
       "    </tr>\n",
       "    <tr>\n",
       "      <th>3</th>\n",
       "      <td>5</td>\n",
       "      <td>0.600000</td>\n",
       "    </tr>\n",
       "    <tr>\n",
       "      <th>4</th>\n",
       "      <td>4</td>\n",
       "      <td>0.000000</td>\n",
       "    </tr>\n",
       "    <tr>\n",
       "      <th>5</th>\n",
       "      <td>5</td>\n",
       "      <td>0.200000</td>\n",
       "    </tr>\n",
       "    <tr>\n",
       "      <th>6</th>\n",
       "      <td>1</td>\n",
       "      <td>0.000000</td>\n",
       "    </tr>\n",
       "  </tbody>\n",
       "</table>\n",
       "</div>"
      ],
      "text/plain": [
       "      Survived          \n",
       "         count      mean\n",
       "Parch                   \n",
       "0          678  0.343658\n",
       "1          118  0.550847\n",
       "2           80  0.500000\n",
       "3            5  0.600000\n",
       "4            4  0.000000\n",
       "5            5  0.200000\n",
       "6            1  0.000000"
      ]
     },
     "execution_count": 231,
     "metadata": {},
     "output_type": "execute_result"
    }
   ],
   "source": [
    "allcol.groupby('Parch').agg({\"Survived\":['count','mean']})"
   ]
  },
  {
   "cell_type": "code",
   "execution_count": 232,
   "id": "031d0bfd",
   "metadata": {},
   "outputs": [
    {
     "name": "stdout",
     "output_type": "stream",
     "text": [
      "0.8111888111888111\n",
      "             0         1\n",
      "0          Age  0.406837\n",
      "1         Fare  0.076208\n",
      "2     Pclass_1  0.449057\n",
      "3     Pclass_2  0.000000\n",
      "4     Pclass_3 -0.530874\n",
      "5      Parch_0  0.000000\n",
      "6      Parch_1  0.194922\n",
      "7      Parch_2 -0.072485\n",
      "8      Parch_3  0.027530\n",
      "9      Parch_4 -0.234731\n",
      "10     Parch_5 -0.040077\n",
      "11     Parch_6 -0.111435\n",
      "12  Embarked_C  0.164721\n",
      "13  Embarked_Q -0.005760\n",
      "14  Embarked_S  0.000000\n",
      "15      Female  1.167751\n",
      "16   Intercept -0.499640\n"
     ]
    },
    {
     "data": {
      "text/plain": [
       "<AxesSubplot:xlabel='0'>"
      ]
     },
     "execution_count": 232,
     "metadata": {},
     "output_type": "execute_result"
    },
    {
     "data": {
      "image/png": "[encoded data removed]",
      "text/plain": [
       "<Figure size 432x288 with 1 Axes>"
      ]
     },
     "metadata": {
      "needs_background": "light"
     },
     "output_type": "display_data"
    }
   ],
   "source": [
    "#This logstic model includes sex, plus other columns, its accuracy on the test set is about 81.1%\n",
    "logisticRegr = LogisticRegression(penalty = 'l1',solver='liblinear')\n",
    "x_train,x_test,y_train,y_test = train_test_split(data6,data3a['Survived'],test_size = 0.20,random_state=0)\n",
    "logisticRegr.fit(x_train,y_train)\n",
    "score = logisticRegr.score(x_test, y_test)\n",
    "coefs = pd.DataFrame(list(zip(data6.columns,logisticRegr.coef_[0])))\n",
    "coefs = coefs.append(pd.DataFrame.from_dict({0:'Intercept',1:logisticRegr.intercept_}),ignore_index=True)\n",
    "print(score)\n",
    "print(coefs)\n",
    "coefs.plot.bar(x=0,y=1)"
   ]
  }
 ],
 "metadata": {
  "kernelspec": {
   "display_name": "venv_titanic",
   "language": "python",
   "name": "venv_titanic"
  },
  "language_info": {
   "codemirror_mode": {
    "name": "ipython",
    "version": 3
   },
   "file_extension": ".py",
   "mimetype": "text/x-python",
   "name": "python",
   "nbconvert_exporter": "python",
   "pygments_lexer": "ipython3",
   "version": "3.7.0"
  }
 },
 "nbformat": 4,
 "nbformat_minor": 5
}
